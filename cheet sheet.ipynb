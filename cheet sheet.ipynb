{
 "cells": [
  {
   "cell_type": "code",
   "execution_count": 1,
   "id": "972f1d72",
   "metadata": {},
   "outputs": [
    {
     "data": {
      "text/plain": [
       "(False, False)"
      ]
     },
     "execution_count": 1,
     "metadata": {},
     "output_type": "execute_result"
    }
   ],
   "source": [
    "False == ( 9 > 7 ), True == ( 7 > 9 ) #False ,True :Data values from the data type Boolean"
   ]
  },
  {
   "cell_type": "code",
   "execution_count": 11,
   "id": "65fda446",
   "metadata": {},
   "outputs": [
    {
     "name": "stdout",
     "output_type": "stream",
     "text": [
      "True\n",
      "True\n",
      "False\n"
     ]
    }
   ],
   "source": [
    "x = 5 #Logical operators: and , or , not\n",
    "print(x > 3 and x < 10) #Returns True if both statements are true\n",
    "print(x > 3 or x < 4) #Returns True if one of the statements is true\n",
    "print(not(x > 3 and x < 10)) #Reverse the result, returns False if the result is true"
   ]
  },
  {
   "cell_type": "code",
   "execution_count": 15,
   "id": "fac0c325",
   "metadata": {},
   "outputs": [
    {
     "name": "stdout",
     "output_type": "stream",
     "text": [
      "current letter: P\n",
      "current letter: y\n",
      "current letter: t\n"
     ]
    }
   ],
   "source": [
    "for letter in 'Python':  #Ends loop prematurely\n",
    "   if letter == 'h':\n",
    "      break\n",
    "   print ('current letter:', letter)"
   ]
  },
  {
   "cell_type": "code",
   "execution_count": 9,
   "id": "6148477e",
   "metadata": {},
   "outputs": [
    {
     "name": "stdout",
     "output_type": "stream",
     "text": [
      "Current Letter : P\n",
      "Current Letter : y\n",
      "Current Letter : t\n",
      "Current Letter : o\n",
      "Current Letter : n\n"
     ]
    }
   ],
   "source": [
    "for letter in 'Python':     # Finishes current loop iteration\n",
    "   if letter == 'h':\n",
    "      continue\n",
    "   print ('Current Letter :', letter)"
   ]
  },
  {
   "cell_type": "code",
   "execution_count": 20,
   "id": "78149628",
   "metadata": {},
   "outputs": [
    {
     "name": "stdout",
     "output_type": "stream",
     "text": [
      "3 - Got a true expression value\n",
      "100\n",
      "Good bye!\n"
     ]
    }
   ],
   "source": [
    "a = 100 #Conditional program execution:if , elif , else\n",
    "if a == 200: \n",
    "   print (\"1 - Got a true expression value\")\n",
    "   print (a)\n",
    "elif a == 150:\n",
    "   print (\"2 - Got a true expression value\")\n",
    "   print (a)\n",
    "elif a == 100:\n",
    "   print (\"3 - Got a true expression value\")\n",
    "   print (a)\n",
    "else:\n",
    "   print (\"4 - Got a false expression value\")\n",
    "   print (a)        ##program starts with “if” branch, tries the “elif” branches, and finishes with \n",
    "                    ##“else” branch (until one branch evaluates to True).\n",
    "print (\"Good bye!\")                                           \n",
    "   "
   ]
  },
  {
   "cell_type": "code",
   "execution_count": 23,
   "id": "a7ae2be7",
   "metadata": {},
   "outputs": [
    {
     "name": "stdout",
     "output_type": "stream",
     "text": [
      "apple\n",
      "banana\n",
      "cherry\n"
     ]
    }
   ],
   "source": [
    "fruits = [\"apple\", \"banana\", \"cherry\"] #A for loop is used for iterating over a sequence \n",
    "for x in fruits: #(that is either a list, a tuple, a dictionary, a set, or a string).\n",
    " print(x)"
   ]
  },
  {
   "cell_type": "code",
   "execution_count": 25,
   "id": "14119d0c",
   "metadata": {},
   "outputs": [
    {
     "name": "stdout",
     "output_type": "stream",
     "text": [
      "1\n",
      "2\n",
      "3\n",
      "4\n",
      "5\n"
     ]
    }
   ],
   "source": [
    "i = 1 #With the while loop we can execute a set of statements as long as a condition is true.\n",
    "while i < 6:\n",
    "  print(i)\n",
    "  i += 1"
   ]
  },
  {
   "cell_type": "code",
   "execution_count": 26,
   "id": "18426412",
   "metadata": {},
   "outputs": [
    {
     "name": "stdout",
     "output_type": "stream",
     "text": [
      "True\n",
      "True\n",
      "False\n"
     ]
    }
   ],
   "source": [
    "list1= [1,2,3,4,5] #in : Checks whether element is in sequence\n",
    "string1= \"My name is srilakshmi\"\n",
    "tuple1=(11,22,33,44)\n",
    " \n",
    "print(5 in list1) \n",
    "print(\"is\" in string1) \n",
    "print(88 in tuple1)"
   ]
  },
  {
   "cell_type": "code",
   "execution_count": 11,
   "id": "450f522e",
   "metadata": {},
   "outputs": [
    {
     "name": "stdout",
     "output_type": "stream",
     "text": [
      "it is true\n"
     ]
    },
    {
     "name": "stderr",
     "output_type": "stream",
     "text": [
      "<>:1: SyntaxWarning: \"is\" with a literal. Did you mean \"==\"?\n",
      "<>:1: SyntaxWarning: \"is\" with a literal. Did you mean \"==\"?\n",
      "C:\\Users\\ELCOT\\AppData\\Local\\Temp/ipykernel_5672/3565542567.py:1: SyntaxWarning: \"is\" with a literal. Did you mean \"==\"?\n",
      "  if (10 * 5 is 10 * 5):\n"
     ]
    }
   ],
   "source": [
    "if (10 * 5 is 10 * 5):\n",
    "    print(\"it is true\")   #is : Checks whether both elements point to the same object  "
   ]
  },
  {
   "cell_type": "code",
   "execution_count": 29,
   "id": "7e177c81",
   "metadata": {},
   "outputs": [
    {
     "name": "stdout",
     "output_type": "stream",
     "text": [
      "None is not True, or False, None is just None...\n"
     ]
    }
   ],
   "source": [
    "x = None #The None keyword is used to define a null value, or no value at all.\n",
    "\n",
    "if x:\n",
    "  print(\"Do you think None is True?\")\n",
    "elif x is False:\n",
    "  print (\"Do you think None is False?\")\n",
    "else:\n",
    "  print(\"None is not True, or False, None is just None...\")\n"
   ]
  },
  {
   "cell_type": "code",
   "execution_count": 30,
   "id": "1d832f52",
   "metadata": {},
   "outputs": [
    {
     "name": "stdout",
     "output_type": "stream",
     "text": [
      "13\n"
     ]
    }
   ],
   "source": [
    "x = lambda a, b, c : a + b + c #lambda Function with no name (anonymous function)\n",
    "print(x(5, 6, 2))#Summarize argument a,b&c and return the result.syntax=lambda arguments : expression"
   ]
  },
  {
   "cell_type": "code",
   "execution_count": 32,
   "id": "abb50a25",
   "metadata": {},
   "outputs": [
    {
     "name": "stdout",
     "output_type": "stream",
     "text": [
      "Result of add function is 5\n",
      "\n",
      "Result of is_true function is True\n"
     ]
    }
   ],
   "source": [
    "def add(a, b):\n",
    " \n",
    "    # returning sum of a and b\n",
    "    return a + b\n",
    " \n",
    "def is_true(a):\n",
    " \n",
    "    # returning boolean of a\n",
    "    return bool(a) #return = Terminates execution of the function and passes theflow of execution to \n",
    "                             #the caller. An optional value afterthe return keyword specifies the \n",
    "# calling function           function result.  \n",
    "res = add(2, 3)\n",
    "print(\"Result of add function is {}\".format(res))\n",
    " \n",
    "res = is_true(2<5)\n",
    "print(\"\\nResult of is_true function is {}\".format(res))"
   ]
  },
  {
   "cell_type": "code",
   "execution_count": 12,
   "id": "9be46ecb",
   "metadata": {},
   "outputs": [
    {
     "name": "stdout",
     "output_type": "stream",
     "text": [
      "True\n",
      "True\n"
     ]
    },
    {
     "data": {
      "text/plain": [
       "True"
      ]
     },
     "execution_count": 12,
     "metadata": {},
     "output_type": "execute_result"
    }
   ],
   "source": [
    "## 1. Boolean Operations\n",
    "#The Boolean data type is a truth value, either\n",
    "#True or False .\n",
    "#The Boolean operators ordered by priority:\n",
    "#not x → “if x is False, then x, else y”\n",
    "#x and y → “if x is False, then x, else y”\n",
    "#x or y → “if x is False, then y, else x”\n",
    "x, y = True , False\n",
    "print(x and not y) \n",
    "print( not x and y or x)\n",
    "\n",
    "#These comparison operators evaluate to True :\n",
    "1 < 2 and 0 <= 1 and 3 > 2 and 2 >= 2 and 1 == 1 and 1 != 0 "
   ]
  },
  {
   "cell_type": "code",
   "execution_count": 14,
   "id": "f2293729",
   "metadata": {},
   "outputs": [
    {
     "name": "stdout",
     "output_type": "stream",
     "text": [
      "x = 5\n",
      "y = 3\n",
      "\n",
      "\n",
      "Addition: x + y = 76\n",
      "Subtraction: x + y = 36\n",
      "Multiplication: x * y = 1120\n",
      "Division: x / y = 2.8\n",
      "Division: x / y = 2\n",
      "Modulus: x % y = 16\n",
      "Power: x ** y = 91994219715833035312262062828158976\n",
      "2\n",
      "36.0\n"
     ]
    }
   ],
   "source": [
    "x = 56\n",
    "y = 20\n",
    "print(\"x = 5\")\n",
    "print(\"y = 3\")\n",
    "print(\"\\n\")#Newline\n",
    "\n",
    "\n",
    "#Addition\n",
    "addition = x + y\n",
    "print(\"Addition: x + y = \" + str(addition)) \n",
    "\n",
    "#Subtraction\n",
    "subtraction = x - y\n",
    "print(\"Subtraction: x + y = \" + str(subtraction)) \n",
    "\n",
    "  \n",
    "#Multiplication\n",
    "multiplication = x * y\n",
    "print(\"Multiplication: x * y = \" + str(multiplication)) \n",
    "\n",
    "#Division\n",
    "division1 = x / y\n",
    "print(\"Division: x / y = \" + str(division1)) \n",
    "   \n",
    "#Division (round down/ floor)Floor Division - The division of operands where the result is the quotient in which the digits \n",
    "#after the decimal point are removed. But if one of the operands is negative, the result is floored, i.e., rounded away from \n",
    "#zero (towards negative infinity)\n",
    "division2 = x // y  \n",
    "print(\"Division: x / y = \" + str(division2)) \n",
    "\n",
    "#Modulus (remainder)Divides left hand operand by right hand operand and returns remainder\n",
    "modulus = x % y\n",
    "print(\"Modulus: x % y = \" + str(modulus))\n",
    "\n",
    "#Power \n",
    "power = x ** y\n",
    "print(\"Power: x ** y = \" + str(power))\n",
    "\n",
    "print(int( 2.8 ))#An integer is a positive or negative number without floating point (e.g. 2.8).\n",
    "print(float( 36 ))#A float is a positive or negative number with floating point precision (e.g. 36.0 )."
   ]
  },
  {
   "cell_type": "code",
   "execution_count": 37,
   "id": "f6230712",
   "metadata": {},
   "outputs": [
    {
     "name": "stdout",
     "output_type": "stream",
     "text": [
      "['spam', 'egg', 'bacon', 'tomato', 'ham', 'lobster']\n",
      "spam\n",
      "bacon\n",
      "lobster\n",
      "lobster\n",
      "\t\n",
      "lobster\n",
      "ham\n",
      "egg\n",
      "spam\n",
      "spam\n",
      "\n",
      "\n",
      "['bacon', 'tomato', 'ham']\n",
      "['egg', 'bacon', 'tomato']\n",
      "['egg', 'bacon', 'tomato']\n",
      "True\n",
      "\n",
      "\n",
      "['spam', 'egg', 'bacon', 'tomato']\n",
      "['spam', 'egg', 'bacon', 'tomato']\n",
      "['bacon', 'tomato', 'ham', 'lobster']\n",
      "['spam', 'egg', 'bacon', 'tomato', 'ham', 'lobster']\n",
      "\n",
      "\n",
      "True\n",
      "False\n",
      "\n",
      "\n",
      "mybacon\n",
      "True\n",
      "True\n",
      "\n",
      "\n",
      "['spam', 'bacon', 'ham']\n",
      "['egg', 'tomato', 'lobster']\n",
      "['lobster', 'tomato', 'egg']\n",
      "['lobster', 'ham', 'tomato', 'bacon', 'egg', 'spam']\n"
     ]
    }
   ],
   "source": [
    "#Indexing and Slicing\n",
    "\n",
    "#technique that is used to access individual characters in a string. List indexing is also zero-based\n",
    "a = ['spam', 'egg', 'bacon', 'tomato', 'ham', 'lobster']\n",
    "print(a)\n",
    "print(a[0])\n",
    "print(a[2])\n",
    "print(a[5])\n",
    "print(a[len(a)-1])\n",
    "\n",
    "#List elements can also be accessed using a negative list index, which counts from the end of the list\n",
    "print(\"\\t\")#tab\n",
    "print(a[-1])\n",
    "print(a[-2])\n",
    "print(a[-5])\n",
    "print(a[-6])\n",
    "print(a[-len(a)])\n",
    "\n",
    "#Slicing is indexing syntax that extracts a portion from a list. If a is a list, then a[m:n] returns the portion of a:\n",
    "\n",
    "#Starting with postion m\n",
    "#Up to but not including n\n",
    "#Negative indexing can also be used\n",
    "#Here’s an example:\n",
    "\n",
    "print(\"\\n\")\n",
    "print(a[2:5])\n",
    "print(a[-5:-2])\n",
    "print(a[1:4])\n",
    "print(a[-5:-2] == a[1:4])\n",
    "\n",
    "print(\"\\n\")\n",
    "\n",
    "#Omitting the first and/or last index:\n",
    "#Here’s an example:\n",
    "\n",
    "print(a[:4])#Omitting the first index a[:n] starts the slice at the beginning of the list.\n",
    "print(a[0:4])\n",
    "print(a[2:])#Omitting the last index a[m:] extends the slice from the first index m to the end of the list.\n",
    "a[2:len(a)]\n",
    "print(a[:])#Omitting both indexes a[:] returns a copy of the entire list,but unlike with a string,its a copy, not a reference to\n",
    "           #the same object.\n",
    "print(\"\\n\")    \n",
    "print(a == a[:])\n",
    "print(a is a[:])\n",
    "\n",
    "print(\"\\n\")\n",
    "s = 'mybacon'\n",
    "print(s[:])\n",
    "print(s == s[:])\n",
    "print(s is s[:])\n",
    "\n",
    "#A stride can be added to your slice notation. Using an additional : and a third index designates a stride (also called a step)\n",
    "#in your slice notation. The stride can be either postive or negative:\n",
    "print(\"\\n\")\n",
    "print(a[0:6:2])\n",
    "print(a[1:6:2])\n",
    "print(a[6:0:-2])\n",
    "print(a[::-1])\n",
    "\n",
    "\n",
    "\n",
    "\n",
    "\n"
   ]
  },
  {
   "cell_type": "code",
   "execution_count": 1,
   "id": "aa53b91d",
   "metadata": {},
   "outputs": [
    {
     "name": "stdout",
     "output_type": "stream",
     "text": [
      "Hello\n",
      "Hello\n",
      "Hello\n",
      "Hello, welcome to\n",
      "           the world of Python\n"
     ]
    }
   ],
   "source": [
    "# defining strings in Python\n",
    "# all of the following are equivalent\n",
    "my_string = 'Hello'\n",
    "print(my_string)\n",
    "\n",
    "my_string = \"Hello\"\n",
    "print(my_string)\n",
    "\n",
    "my_string = '''Hello'''\n",
    "print(my_string)\n",
    "\n",
    "# triple quotes string can extend multiple lines\n",
    "my_string = \"\"\"Hello, welcome to\n",
    "           the world of Python\"\"\"\n",
    "print(my_string)"
   ]
  },
  {
   "cell_type": "code",
   "execution_count": 14,
   "id": "2e008641",
   "metadata": {},
   "outputs": [
    {
     "name": "stdout",
     "output_type": "stream",
     "text": [
      "Analytics vidhya is the largest data science community one\n",
      "10 version of data science blogathon by analytics vidhya is very good two\n",
      "analytics vidhya is the largest data science community three\n",
      "10 version of data science blogathon by analytics vidhya is very good four\n",
      "Analytics Vidhya Is The Largest Data Science Community Five\n",
      "10Th Version Of Data Science Blogathon By Analytics Vidhya Is Very Good Six\n",
      "analytics vidhya is the largest data science community seven\n",
      "10th version of data science blogathon by analytics vidhya is very good eight\n",
      "ANALYTICS VIDHYA IS THE LARGEST DATA SCIENCE COMMUNITY NINE\n",
      "10TH VERSION OF DATA SCIENCE BLOGATHON BY ANALYTICS VIDHYA IS VERY GOOD TEN\n",
      "1\n",
      "0\n",
      "12\n",
      "12\n",
      "-1\n",
      "analytics vidhya is the Largest data scientists Community sixteen\n",
      "Data scientists Courses by analytics vidhya are the best courses to learn Data science seventeen\n",
      "ANALYTICS VIDHYA IS THE lARGEST DATA SCIENCE cOMMUNITY EIGHTEEN\n",
      "10TH VERSION OF dATA sCIENCE bLOGATHON BY aNALYTICS vIDHYA IS VERY GOOD NINETEEN\n",
      "Data Scientists#Machine Learning#Data Science\n",
      "nameTESTcountryTESTTechnology\n"
     ]
    }
   ],
   "source": [
    "##  Most Important String Methods.\n",
    "\n",
    "#capitalize( ) function , Make the first letter upper case in the given sentence ,Syntax: string.capitalize()\n",
    "one = \"analytics Vidhya is the Largest data science Community one\"\n",
    "print(one.capitalize())\n",
    "#What happens if the first character is a number instead of a character\n",
    "two = '10 version of Data Science Blogathon by Analytics Vidhya is very good two'\n",
    "print(two.capitalize())\n",
    "\n",
    "#lower()function,The lower()function lower case the given string\n",
    "three = \"Analytics Vidhya is the Largest Data Science Community three\"\n",
    "print(three.lower())\n",
    "#What happens if there is a number instead of a character\n",
    "four = '10 version of Data Science Blogathon by Analytics Vidhya is very good four'\n",
    "print(four.lower())\n",
    "\n",
    "#title( ) function , Syntax: string.title() ,Make the first letter in each word upper case\n",
    "five = \"analytics vidhya is the Largest data science Community five\"\n",
    "print(five.title())\n",
    "#What happens if there is a number instead of a character\n",
    "six = '10th version of Data Science Blogathon by Analytics Vidhya is very good six'\n",
    "print(six.title())\n",
    "\n",
    "#Syntax: string.casefold() , Make the given string to lower case\n",
    "seven = \"Analytics Vidhya is the Largest Data Science Community seven\"\n",
    "print(seven.casefold())\n",
    "#What happens if there is a number instead of a character\n",
    "eight = '10th version of Data Science Blogathon by Analytics Vidhya is very good eight'\n",
    "print(eight.casefold())\n",
    "\n",
    "#upper( ) function , Syntax: string.upper() ,Upper case the given string\n",
    "nine = \"analytics Vidhya is the Largest Data Science Community nine\"\n",
    "print(nine.upper())\n",
    "#What happens if there is a number instead of a character\n",
    "ten = \"10th version of Data Science Blogathon by Analytics Vidhya is very good ten\"\n",
    "print(ten.upper())\n",
    "\n",
    "#count()function,Syntax: string.count(value, start, end),Return the number of times the value “analytics” appears in the string\n",
    "eleven = \"analytics Vidhya is the Largest Analytics Community eleven\"\n",
    "print(eleven.count(\"analytics\"))\n",
    "#Return the number of times the value “analytics” appears in the string from position 10 to 18\n",
    "twelve = \"analytics Vidhya is the Largest analytics Community twelve\"\n",
    "print(twelve.count(\"analytics\", 10, 18))\n",
    "\n",
    "#find( ) function ,Syntax: string.find(value, start, end).Where in the text is the first occurrence of the letter “d”?\n",
    "thirteen = \"analytics vidhya is the Largest data science Community thirteen\"\n",
    "print(thirteen.find(\"d\"))\n",
    "#Where in the text is the first occurrence of the letter “d” when you only search between positions 5 and 16?\n",
    "fourteen = \"analytics vidhya is the Largest data science Community fourteen\"\n",
    "print(fourteen.find(\"d\", 5, 16))\n",
    "#If the value is not found, the find() function returns -1, but the index() function will raise an exception\n",
    "fifteen = \"analytics vidhya is the Largest data science Community fifteen\"\n",
    "print(fifteen.find(\"d\", 5, 10))\n",
    "\n",
    "#replace() function,Syntax: string.replace(oldvalue, newvalue, count) ,Replace all occurrences of the word “science”\n",
    "sixteen = \"analytics vidhya is the Largest data science Community sixteen\"\n",
    "print(sixteen.replace(\"science\", \"scientists\"))\n",
    "#Replace only the first occurrence of the word “science”\n",
    "seventeen = \"Data science Courses by analytics vidhya are the best courses to learn Data science seventeen\"\n",
    "print(seventeen.replace(\"science\", \"scientists\", 1))\n",
    "\n",
    "#The swapcase() function,Syntax:string.swapcase(),Make the lower case letters to upper case&the upper case letters to lower case\n",
    "eighteen = \"analytics vidhya is the Largest data science Community eighteen\"\n",
    "print(eighteen.swapcase())\n",
    "#What happens if there is a number instead of a character\n",
    "nineteen = '10th version of Data Science Blogathon by Analytics Vidhya is very good nineteen'\n",
    "print(nineteen.swapcase())\n",
    "\n",
    "\n",
    "#join( ) function,,Join all the items in a given tuple into a string,using #(hashtag)character as the separator\n",
    "#Syntax: string.join(iterable)\n",
    "myTuple = (\"Data Scientists\", \"Machine Learning\", \"Data Science\")\n",
    "x = \"#\".join(myTuple)\n",
    "print(x)\n",
    "#Join all the items in a given dictionary into a string, using the word “TEST” as the separator\n",
    "myDict = {\"name\": \"Analytics Vidhya\", \"country\": \"India\", \"Technology\": \"Data Science\"}\n",
    "mySeparator = \"TEST\"\n",
    "x = mySeparator.join(myDict)\n",
    "print(x)\n",
    "\n"
   ]
  },
  {
   "cell_type": "code",
   "execution_count": 51,
   "id": "b6a00fbf",
   "metadata": {},
   "outputs": [
    {
     "name": "stdout",
     "output_type": "stream",
     "text": [
      "printing employee data...\n",
      "Name : John, ID: 102, Country: USA\n",
      "printing departments...\n",
      "Department 1:\n",
      "Name: CS, ID: 11\n",
      "Department 2:\n",
      "Name: IT, ID: 11\n",
      "HOD Details ....\n",
      "CS HOD Name: Mr. Holding, Id: 10\n",
      "IT HOD Name: Mr. Bewon, Id: 11\n",
      "<class 'list'> <class 'list'> <class 'list'> <class 'list'> <class 'list'>\n",
      "\n",
      "\n",
      "[1, 2, 3, 4, 5, 6]\n",
      "[1, 2, 10, 4, 5, 6]\n",
      "[1, 89, 78, 4, 5, 6]\n",
      "[1, 89, 78, 4, 5, 25]\n",
      "[1, 89, 78, 4, 5, 25, 7]\n",
      "[1, 89, 78, 8, 4, 5, 25, 7]\n",
      "[1, 89, 78, 8, 5, 25, 7]\n",
      "\n",
      "\n",
      "[1, 2, 3, 4, 1, 2, 3, 4]\n",
      "[1, 2, 3, 4, 5, 6, 7, 8]\n",
      "True\n",
      "John\n",
      "David\n",
      "James\n",
      "Jonathan\n",
      "4\n",
      "\n",
      "\n",
      "72\n",
      "12\n",
      "[12, 26, 34, 48, 72]\n",
      "[72, 48, 34, 26, 12]\n"
     ]
    }
   ],
   "source": [
    "#List:A list in Python is used to store the sequence of various types of data. Python lists are mutable type its mean we can \n",
    "#modify its element after it created.The items in the list are separated with the(,) and enclosed with the square brackets[].\n",
    "emp = [\"John\", 102, \"USA\"]     \n",
    "Dep1 = [\"CS\",10]  \n",
    "Dep2 = [\"IT\",11]    \n",
    "HOD_CS = [10,\"Mr. Holding\"]    \n",
    "HOD_IT = [11, \"Mr. Bewon\"]    \n",
    "print(\"printing employee data...\")    \n",
    "print(\"Name : %s, ID: %d, Country: %s\"%(emp[0],emp[1],emp[2]))    \n",
    "print(\"printing departments...\")   \n",
    "print(\"Department 1:\\nName: %s, ID: %d\\nDepartment 2:\\nName: %s, ID: %s\"%(Dep1[0],Dep2[1],Dep2[0],Dep2[1]))    \n",
    "print(\"HOD Details ....\")    \n",
    "print(\"CS HOD Name: %s, Id: %d\"%(HOD_CS[1],HOD_CS[0]))    \n",
    "print(\"IT HOD Name: %s, Id: %d\"%(HOD_IT[1],HOD_IT[0]))    \n",
    "print(type(emp),type(Dep1),type(Dep2),type(HOD_CS),type(HOD_IT))#IIf we try to print the type of \n",
    "#L1, L2,using type() function then it will come out to be a list.\n",
    "\n",
    "print(\"\\n\")\n",
    "# update the values inside the list.\n",
    "list = [1, 2, 3, 4, 5, 6]     \n",
    "print(list)     \n",
    "# It will assign value to the value to the second index   \n",
    "list[2] = 10   \n",
    "print(list)    \n",
    "# Adding multiple-element   \n",
    "list[1:3] = [89, 78]     \n",
    "print(list)   \n",
    "# It will add value at the end of the list  \n",
    "list[-1] = 25  \n",
    "print(list)\n",
    "#The append() method appends an element to the end of the list.\n",
    "list.append(7)\n",
    "print(list)\n",
    "#The insert() method inserts the specified value at the specified position.\n",
    "list.insert(3,8)\n",
    "print(list)\n",
    "#The remove() method removes the first matching element \n",
    "list.remove(4)\n",
    "print(list)\n",
    "\n",
    "#various operatorsin list\n",
    "print(\"\\n\")\n",
    "#Repetition\tThe repetition operator enables the list elements to be repeated multiple times.\n",
    "a = [1, 2, 3, 4]\n",
    "b = [5, 6, 7, 8]\n",
    "print(a*2)\n",
    "#Concatenation\tIt concatenates the list mentioned on either side of the operator.\n",
    "print(a+b)\n",
    "#Membership\tIt returns true if a particular item exists in a particular list otherwise false.\n",
    "print(2 in a)\n",
    "list = [\"John\", \"David\", \"James\", \"Jonathan\"]\n",
    "#Iteration\tThe for loop is used to iterate over the list elements.\n",
    "for i in list:   \n",
    "    # The i variable will iterate over the elements of the List and contains each element in each iteration.     \n",
    "    print(i)  \n",
    "#Length\tIt is used to get the length of the list\t\n",
    "print(len(a))\n",
    "\n",
    "#Python List Built-in functions\n",
    "print(\"\\n\")\n",
    "#max(list)\tIt returns the maximum element of the list.\t\n",
    "c = [12,34,26,48,72]\n",
    "print(max(c))\n",
    "#min(list)\tIt returns the minimum element of the list.\n",
    "print(min(c))\n",
    "#the sort()method returns the ascending order of the list by default\n",
    "c.sort()\n",
    "print(c)\n",
    "#The reverse() method reverses the elements of the list.\n",
    "c.reverse()\n",
    "print(c)\n",
    "\n",
    "\n",
    "\n",
    " \n",
    "   "
   ]
  },
  {
   "cell_type": "code",
   "execution_count": 52,
   "id": "b8cc686d",
   "metadata": {},
   "outputs": [
    {
     "name": "stdout",
     "output_type": "stream",
     "text": [
      "Initial stack\n",
      "['a', 'b', 'c']\n",
      "\n",
      "Elements popped from stack:\n",
      "c\n",
      "b\n",
      "a\n",
      "\n",
      "Stack after elements are popped:\n",
      "[]\n"
     ]
    }
   ],
   "source": [
    "#A stack is a linear data structure that stores items in a Last-In/First-Out (LIFO) or First-In/Last-Out (FILO) manner.\n",
    "#In stack, a new element is added at one end and an element is removed from that end only. The insert and delete operations are\n",
    "#often called push and pop.\n",
    "stack = []\n",
    "# append() function to push\n",
    "# element in the stack\n",
    "stack.append('a')\n",
    "stack.append('b')\n",
    "stack.append('c')\n",
    "print('Initial stack')\n",
    "print(stack)\n",
    "# pop() function to pop element from stack in LIFO order\n",
    "print('\\nElements popped from stack:')\n",
    "print(stack.pop())\n",
    "print(stack.pop())\n",
    "print(stack.pop())\n",
    " \n",
    "print('\\nStack after elements are popped:')\n",
    "print(stack)"
   ]
  },
  {
   "cell_type": "code",
   "execution_count": 56,
   "id": "6066a245",
   "metadata": {},
   "outputs": [
    {
     "name": "stdout",
     "output_type": "stream",
     "text": [
      "{1, 2, 3}\n",
      "{1.0, (1, 2, 3), 'Hello'}\n",
      "{1, 2, 3, 4}\n",
      "{1, 2, 3}\n",
      "{1, 2, 3, 4}\n",
      "{1, 2, 3, 4, 5, 6, 7}\n",
      "{1, 2, 3, 4, 5, 6, 7, 9, 10, 11, 12, 13}\n",
      "{1, 2, 3, 4, 5, 7, 9, 10, 11, 12, 13}\n"
     ]
    }
   ],
   "source": [
    "#A set is an unordered collection of items. Every set element is unique(no duplicates) & must be immutable(cannot be changed).\n",
    "#A set is created by placing all the items (elements) inside curly braces {}, separated by comma, or by using the built-in\n",
    "#set() function.\n",
    "# Different types of sets in Python\n",
    "# set of integers\n",
    "my_set = {1, 2, 3}\n",
    "print(my_set)\n",
    "# set of mixed datatypes\n",
    "my_set = {1.0, \"Hello\", (1, 2, 3)}\n",
    "print(my_set)\n",
    "# set cannot have duplicates\n",
    "my_set = {1, 2, 3, 4, 3, 2}\n",
    "print(my_set)\n",
    "# we can make set from a list\n",
    "my_set = set([1, 2, 3, 2])\n",
    "print(my_set)\n",
    "# add an element\n",
    "my_set.add(4)\n",
    "print(my_set)\n",
    "# add multiple elements\n",
    "my_set.update([5, 6, 7])\n",
    "print(my_set)\n",
    "# add list and set\n",
    "my_set.update([9, 10], {11, 12, 13})\n",
    "print(my_set)\n",
    "# remove an element\n",
    "my_set.remove(6)\n",
    "print(my_set)"
   ]
  },
  {
   "cell_type": "code",
   "execution_count": 68,
   "id": "550781a0",
   "metadata": {},
   "outputs": [
    {
     "name": "stdout",
     "output_type": "stream",
     "text": [
      "{'name': 'Jack', 'age': 26}\n",
      "Jack\n",
      "26\n",
      "\n",
      "\n",
      "{'name': 'Jack', 'age': 27}\n",
      "{'name': 'Jack', 'age': 27, 'address': 'avadi'}\n",
      "\n",
      "\n",
      "16\n",
      "{1: 1, 2: 4, 3: 9, 5: 25}\n",
      "(5, 25)\n",
      "{1: 1, 2: 4, 3: 9}\n",
      "{}\n"
     ]
    }
   ],
   "source": [
    "my_dict = {'name': 'Jack', 'age': 26}\n",
    "print(my_dict)\n",
    "# get values [] for retrieving elements\n",
    "print(my_dict['name'])\n",
    "print(my_dict.get('age'))\n",
    "print(\"\\n\")\n",
    "# Changing and adding Dictionary Elements\n",
    "my_dict = {'name': 'Jack', 'age': 26}\n",
    "# update value\n",
    "my_dict['age'] = 27\n",
    "print(my_dict)\n",
    "# add item\n",
    "my_dict['address'] = 'avadi'\n",
    "print(my_dict)\n",
    "print(\"\\n\")\n",
    "# Removing elements from a dictionary\n",
    "squares = {1: 1, 2: 4, 3: 9, 4: 16, 5: 25}\n",
    "print(squares.pop(4))\n",
    "print(squares)\n",
    "# remove an arbitrary item, return (key,value)\n",
    "print(squares.popitem())\n",
    "print(squares)\n",
    "# remove all items\n",
    "squares.clear()\n",
    "print(squares)\n",
    "# delete the dictionary itself\n",
    "del squares"
   ]
  },
  {
   "cell_type": "code",
   "execution_count": 15,
   "id": "36e26996",
   "metadata": {},
   "outputs": [
    {
     "name": "stdout",
     "output_type": "stream",
     "text": [
      "The existing list is:\n",
      "[1, 2, 3, 4, 5, 6, 7, 8, 9, 10]\n",
      "The Newly Created set is:\n",
      "{6, 12, 18, 24, 30}\n",
      "\n",
      "\n",
      "The existing set is:\n",
      "{1, 2, 3, 4, 5, 6, 7, 8, 9, 10}\n",
      "The Newly Created set is:\n",
      "{64, 1, 4, 36, 100, 9, 16, 49, 81, 25}\n",
      "\n",
      "\n",
      "The existing set is:\n",
      "{1, 2, 3, 4, 5, 6, 7, 8, 9, 10}\n",
      "The Newly Created set is:\n",
      "{'1', '8', '10', '6', '3', '7', '2', '9', '5', '4'}\n"
     ]
    }
   ],
   "source": [
    "#Set Comprehension \n",
    "#Set comprehension is a method for creating sets in python using the elements from other iterables like lists, sets, or tuples.\n",
    "#we can use set comprehension instead of for loop to create a new set and add elements to it. \n",
    "#syntax for set comprehension is, newSet= { expression for element in  iterable }\n",
    "#Create list\\set & Filter\\Delete elements from a list\\set based on a condition to form a mew  set\n",
    "myList = [1, 2, 3, 4, 5, 6, 7, 8, 9, 10]\n",
    "newSet = {element*3 for element in myList if element % 2 ==0}\n",
    "print(\"The existing list is:\")      #In this,I have a list of 10 integers and I have created a set of triples of those \n",
    "print(myList)                       #elements of the given list which are even numbers\n",
    "print(\"The Newly Created set is:\")\n",
    "print(newSet)\n",
    "\n",
    "#Create a set from elements of another set,If you have to create a set using elements of another set, you can do so by creating\n",
    "#a new set. After creating a new set, you can add elements to the new set using add() method and for loop . \n",
    "print(\"\\n\")\n",
    "mySet = {1, 2, 3, 4, 5, 6, 7, 8, 9, 10}\n",
    "newSet = {element ** 2 for element in mySet}#In this, I have created a new set with squares of element of an existing set.\n",
    "print(\"The existing set is:\")\n",
    "print(mySet)\n",
    "print(\"The Newly Created set is:\")\n",
    "print(newSet)\n",
    "\n",
    "#Change the data type of elements of the set,In this wi have converted all the integer elements of a set to strings.\n",
    "print(\"\\n\")\n",
    "a = {1, 2, 3, 4, 5, 6, 7, 8, 9, 10}\n",
    "b = {str(element) for element in a }\n",
    "print(\"The existing set is:\")\n",
    "print(a)\n",
    "print(\"The Newly Created set is:\")\n",
    "print(b)"
   ]
  },
  {
   "cell_type": "code",
   "execution_count": 19,
   "id": "a8421ebf",
   "metadata": {},
   "outputs": [
    {
     "name": "stdout",
     "output_type": "stream",
     "text": [
      "[0, 2, 4, 6, 8, 10, 12, 14, 16, 18, 20]\n",
      "\n",
      "\n",
      "['Ram', 'Mohan']\n",
      "\n",
      "\n",
      "[0, 1, 4, 9, 16, 25, 36, 49, 64, 81, 100]\n",
      "\n",
      "\n",
      "[(1, 4), (1, 5), (1, 6), (2, 4), (2, 5), (2, 6), (3, 4), (3, 5), (3, 6)]\n",
      "\n",
      "\n",
      "[0, 10, 20]\n",
      "\n",
      "\n",
      "['Even', 'Odd', 'Even', 'Odd', 'Even']\n",
      "['0=Even', '1=Odd', '2=Even', '3=Odd', '4=Even']\n",
      "\n",
      "\n",
      "[1, 2, 3, 4, 5, 6, 7, 8, 9]\n"
     ]
    }
   ],
   "source": [
    "#List Comprehension, List Comprehension Syntax:[expression for element in iterable if condition]\n",
    "#Create List of Even Numbers with List Comprehension\n",
    "even_nums = [x for x in range(21) if x%2 == 0]# In this it executes the for loop for x in range(21) if x%2 == 0.\n",
    "print(even_nums)# The element x would be returned if the specified condition if x%2 == 0 evaluates to True.\n",
    "print(\"\\n\")\n",
    "#List Comprehension with String List Copy\n",
    "names = ['Steve', 'Bill', 'Ram', 'Mohan', 'Abdul']\n",
    "names2 = [s for s in names if 'a' in s]# In this the expression if 'a' in s returns True if an element contains a character 'a'.\n",
    "print(names2)                          # So, the new list will include names that contain 'a'.\n",
    "print(\"\\n\")\n",
    "#list comprehension to build a list of squares\n",
    "squares = [x*x for x in range(11)]#In this for loop for x in range(11) is executed without any if condition. \n",
    "print(squares)                    #The expression before for loop x*x stores the square of the element in the new list.\n",
    "print(\"\\n\")\n",
    "#List Comprehension using Nested Loops\n",
    "nums1 = [1, 2, 3]\n",
    "nums2 = [4, 5, 6]\n",
    "nums=[(x,y) for x in nums1 for y in nums2]#In this all combinations of items from two lists in the form of a tuple \n",
    "print(nums)                               #are added in a third list object.\n",
    "print(\"\\n\")\n",
    "#List Comprehension with Multiple if Conditions\n",
    "nums = [x for x in range(21) if x%2==0 if x%5==0] \n",
    "print(nums)\n",
    "print(\"\\n\")\n",
    "#List Comprehension with if-else Condition\n",
    "odd_even_list = [\"Even\" if i%2==0 else \"Odd\" for i in range(5)]\n",
    "print(odd_even_list)\n",
    "odd_even_list = [str(i) + '=Even' if i%2==0 else str(i) + \"=Odd\" for i in range(5)]\n",
    "print(odd_even_list)\n",
    "print(\"\\n\")\n",
    "#Flatten List using List Comprehension\n",
    "matrix=[[1, 2, 3], [4, 5, 6], [7, 8, 9]]\n",
    "flatList=[num for row in matrix for num in row]#flatten a list comprising of multiple lists into a single list.\n",
    "print(flatList)"
   ]
  },
  {
   "cell_type": "code",
   "execution_count": 32,
   "id": "7188a076",
   "metadata": {},
   "outputs": [
    {
     "name": "stdout",
     "output_type": "stream",
     "text": [
      "[2, 4, 6, 8]\n",
      "\n",
      "\n",
      "[['s', 'a', 't'], ['b', 'a', 't'], ['c', 'a', 't'], ['m', 'a', 't']]\n"
     ]
    }
   ],
   "source": [
    "#map() function\n",
    "#map() function returns a map object(which is an iterator) of the results after applying the given function to each item of a\n",
    "#given iterable (list, tuple etc.),Syntax :map(fun, iter)\n",
    "#Parameters :\n",
    "#fun : It is a function to which map passes each element of given iterable.\n",
    "#iter : It is a iterable which is to be mapped.\n",
    "#program to demonstrate working of map.\n",
    "def addition(n):# Return double of n\n",
    "    return n + n# We double all numbers using map()\n",
    "numbers = (1, 2, 3, 4)\n",
    "result = map(addition, numbers)\n",
    "print(list(result))\n",
    "print(\"\\n\")\n",
    "# List of strings\n",
    "l = ['sat','bat', 'cat', 'mat']\n",
    "# map() can listify the list of strings individually\n",
    "test = list(map(list, l))\n",
    "print(test)"
   ]
  },
  {
   "cell_type": "code",
   "execution_count": 36,
   "id": "61e701f3",
   "metadata": {},
   "outputs": [
    {
     "name": "stdout",
     "output_type": "stream",
     "text": [
      "Python is a fun programming language\n",
      "1, 2, 3, 4\n",
      "1, 2, 3, 4\n",
      "s1.join(s2): 1abc2abc3\n",
      "s2.join(s1): a123b123c\n"
     ]
    }
   ],
   "source": [
    "#The join() string method returns a string by joining all the elements of an iterable (list, string, tuple), separated by a \n",
    "#string separator.Syntax:string.join(iterable)\n",
    "# join elements of text with space\n",
    "text = ['Python', 'is', 'a', 'fun', 'programming', 'language']\n",
    "print(' '.join(text))\n",
    "# join() with lists\n",
    "numList = ['1', '2', '3', '4']\n",
    "separator = ', '\n",
    "print(separator.join(numList))\n",
    "# join() with tuples\n",
    "numTuple = ('1', '2', '3', '4')\n",
    "print(separator.join(numTuple))\n",
    "s1 = 'abc'\n",
    "s2 = '123'\n",
    "# each element of s2 is separated by s1\n",
    "# '1'+ 'abc'+ '2'+ 'abc'+ '3'\n",
    "print('s1.join(s2):', s1.join(s2))\n",
    "# each element of s1 is separated by s2\n",
    "# 'a'+ '123'+ 'b'+ '123'+ 'b'\n",
    "print('s2.join(s1):', s2.join(s1))"
   ]
  },
  {
   "cell_type": "code",
   "execution_count": 40,
   "id": "b830c63e",
   "metadata": {},
   "outputs": [
    {
     "name": "stdout",
     "output_type": "stream",
     "text": [
      "18\n",
      "24\n",
      "32\n"
     ]
    }
   ],
   "source": [
    "#The filter() function returns an iterator were the items are filtered through a function to test if the item is accepted or not\n",
    "#Syntax=filter(function, iterable)\n",
    "ages = [5, 12, 17, 18, 24, 32]\n",
    "def myFunc(x):\n",
    "  if x < 18:\n",
    "    return False\n",
    "  else:\n",
    "    return True\n",
    "adults = filter(myFunc, ages)\n",
    "for x in adults:\n",
    "  print(x)"
   ]
  },
  {
   "cell_type": "code",
   "execution_count": 41,
   "id": "3db06577",
   "metadata": {},
   "outputs": [
    {
     "name": "stdout",
     "output_type": "stream",
     "text": [
      "of all fruits banana is my favorite\n",
      "\n",
      "\n",
      "banana\n"
     ]
    }
   ],
   "source": [
    "#String strip() Method\n",
    "#The strip() method removes any leading (spaces at the beginning) and trailing (spaces at the end) characters \n",
    "#(space is the default leading character to remove). Syntax=string.strip(characters)\n",
    "#Remove spaces at the beginning and at the end of the string:\n",
    "txt = \"     banana     \"\n",
    "x = txt.strip()\n",
    "print(\"of all fruits\", x, \"is my favorite\")\n",
    "print(\"\\n\")\n",
    "#Remove the leading and trailing characters:\n",
    "txt = \",,,,,rrttgg.....banana....rrr\"\n",
    "x = txt.strip(\",.grt\")\n",
    "print(x)"
   ]
  },
  {
   "cell_type": "code",
   "execution_count": 43,
   "id": "2f26cbd5",
   "metadata": {},
   "outputs": [
    {
     "name": "stdout",
     "output_type": "stream",
     "text": [
      "[2, 4, 8, 12]\n",
      "['u', 'o', 'i', 'e', 'a']\n"
     ]
    }
   ],
   "source": [
    "#sorted() ,The sorted() function sorts the elements of a given iterable in a specific order (ascending or descending) and \n",
    "#returns it as a list.Syntax=sorted(iterable, key=None, reverse=False)\n",
    "numbers = [4, 2, 12, 8]\n",
    "sorted_numbers = sorted(numbers)\n",
    "print(sorted_numbers)\n",
    "#Sort in descending order ,Setting reverse = True sorts the iterable in the descending order.\n",
    "py_set = {'e', 'a', 'u', 'o', 'i'}\n",
    "print(sorted(py_set, reverse=True))"
   ]
  },
  {
   "cell_type": "code",
   "execution_count": 47,
   "id": "d2998411",
   "metadata": {},
   "outputs": [
    {
     "name": "stdout",
     "output_type": "stream",
     "text": [
      "Help on method_descriptor:\n",
      "\n",
      "upper(self, /)\n",
      "    Return a copy of the string converted to uppercase.\n",
      "\n"
     ]
    }
   ],
   "source": [
    "#Python help() function is used to get the documentation of specified module, class, function, variables etc.\n",
    "#This method is generally used with python interpreter console to get details about python objects.\n",
    "#syntax :help([object])\n",
    "help(str.upper)"
   ]
  },
  {
   "cell_type": "code",
   "execution_count": 84,
   "id": "6f17c9d1",
   "metadata": {},
   "outputs": [
    {
     "name": "stdout",
     "output_type": "stream",
     "text": [
      "[('x', 3), ('y', 4), ('z', 5)]\n",
      "\n",
      "\n",
      "c = ('x', 'y', 'z')\n",
      "v = (3, 4, 5)\n"
     ]
    }
   ],
   "source": [
    "#zip() method takes iterable or containers and returns a single iterator object, having mapped values from all the containers\n",
    "#syntax=zip(iterables)\n",
    "coordinate = ['x', 'y', 'z']\n",
    "value = [3, 4, 5]\n",
    "result = zip(coordinate, value)\n",
    "result_list = list(result)\n",
    "print(result_list)\n",
    "\n",
    "print(\"\\n\")\n",
    "#Unzipping the Value Using zip(), syntax=zip(*zippedList)\n",
    "#The * operator can be used in conjunction with zip() to unzip the list.\n",
    "c, v =  zip(*result_list)\n",
    "print('c =', c)\n",
    "print('v =', v)"
   ]
  },
  {
   "cell_type": "code",
   "execution_count": 88,
   "id": "b4b0c9f2",
   "metadata": {},
   "outputs": [
    {
     "name": "stdout",
     "output_type": "stream",
     "text": [
      "[(0, 'bread'), (1, 'milk'), (2, 'butter')]\n",
      "[(10, 'bread'), (11, 'milk'), (12, 'butter')]\n"
     ]
    }
   ],
   "source": [
    "#The enumerate() method adds a counter to an iterable and returns it (the enumerate object).syntax=enumerate(iterable, start=0)\n",
    "grocery = ['bread', 'milk', 'butter']\n",
    "enumerateGrocery = enumerate(grocery)\n",
    "# converting to list\n",
    "print(list(enumerateGrocery))\n",
    "# changing the default counter\n",
    "enumerateGrocery = enumerate(grocery, 10)\n",
    "print(list(enumerateGrocery))"
   ]
  },
  {
   "cell_type": "code",
   "execution_count": 113,
   "id": "4668aac9",
   "metadata": {},
   "outputs": [
    {
     "name": "stdout",
     "output_type": "stream",
     "text": [
      "enter a number:5\n",
      "enter another number:10\n",
      "x = 10\n",
      "y = 5\n",
      "x = 5\n",
      "y = 10\n",
      "x = 10\n",
      "y = 5\n",
      "x = 5\n",
      "y = 10\n"
     ]
    }
   ],
   "source": [
    "x = int(input(\"enter a number:\"))\n",
    "y = int(input(\"enter another number:\"))\n",
    "x, y = y, x\n",
    "print(\"x =\", x)\n",
    "print(\"y =\", y)\n",
    "\n",
    "x = x + y\n",
    "y = x - y\n",
    "x = x - y\n",
    "print(\"x =\", x)\n",
    "print(\"y =\", y)\n",
    "\n",
    "x = x * y\n",
    "y = x // y\n",
    "x = x // y\n",
    "print(\"x =\", x)\n",
    "print(\"y =\", y)\n",
    "\n",
    "x = x ^ y\n",
    "y = x ^ y\n",
    "x = x ^ y\n",
    "print(\"x =\", x)\n",
    "print(\"y =\", y)"
   ]
  },
  {
   "cell_type": "code",
   "execution_count": 117,
   "id": "3ac2ef53",
   "metadata": {},
   "outputs": [
    {
     "name": "stdout",
     "output_type": "stream",
     "text": [
      "arg1: InterviewBit\n",
      "arg2: Blog\n",
      "arg3: Packing and Unpacking\n"
     ]
    }
   ],
   "source": [
    "#Unpacking arguments Use a sequence as function arguments via asterisk operator *. \n",
    "#Use a dictionary(key, value) via double asterisk operator **\n",
    "def myFun(arg1, arg2, arg3):\n",
    "    print(\"arg1:\", arg1)\n",
    "    print(\"arg2:\", arg2)\n",
    "    print(\"arg3:\", arg3)\n",
    "# Using **kwargs to pass arguments to this function : \n",
    "kwargs = {\"arg1\" : \"InterviewBit\", \"arg2\" : \"Blog\", \"arg3\" : \"Packing and Unpacking\"}\n",
    "myFun(**kwargs)"
   ]
  },
  {
   "cell_type": "code",
   "execution_count": 118,
   "id": "39a55582",
   "metadata": {},
   "outputs": [
    {
     "name": "stdout",
     "output_type": "stream",
     "text": [
      "{'India': 'Delhi', 'Canada': 'Ottawa', 'United States': 'Washington D. C.', 'France': 'Paris', 'Malaysia': 'Kuala Lumpur'}\n"
     ]
    }
   ],
   "source": [
    "#Merge two dictionaries\n",
    "#Use unpacking to merge two dictionaries into a single one\n",
    "d1 = {'India': 'Delhi','Canada': 'Ottawa','United States': 'Washington D. C.'}\n",
    "d2 = {'France': 'Paris','Malaysia': 'Kuala Lumpur'}\n",
    "d5 = {**d1, **d2}\n",
    "print(d5)"
   ]
  },
  {
   "cell_type": "code",
   "execution_count": null,
   "id": "eaf03032",
   "metadata": {},
   "outputs": [],
   "source": []
  }
 ],
 "metadata": {
  "kernelspec": {
   "display_name": "Python 3 (ipykernel)",
   "language": "python",
   "name": "python3"
  },
  "language_info": {
   "codemirror_mode": {
    "name": "ipython",
    "version": 3
   },
   "file_extension": ".py",
   "mimetype": "text/x-python",
   "name": "python",
   "nbconvert_exporter": "python",
   "pygments_lexer": "ipython3",
   "version": "3.9.7"
  }
 },
 "nbformat": 4,
 "nbformat_minor": 5
}
